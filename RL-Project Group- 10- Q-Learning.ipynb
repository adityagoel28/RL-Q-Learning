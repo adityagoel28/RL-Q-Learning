{
  "nbformat": 4,
  "nbformat_minor": 0,
  "metadata": {
    "colab": {
      "name": "RL Project Q-Learning.ipynb",
      "provenance": []
    },
    "kernelspec": {
      "name": "python3",
      "display_name": "Python 3"
    }
  },
  "cells": [
    {
      "cell_type": "markdown",
      "source": [
        "# **RL Project**\n",
        "**Done by- Aditya Goel and Sanskar Chandra**"
      ],
      "metadata": {
        "id": "V3g2CUBqMQQi"
      }
    },
    {
      "cell_type": "markdown",
      "source": [
        "## **Q- Learning Algorithm**"
      ],
      "metadata": {
        "id": "XuV7CAulMaQY"
      }
    },
    {
      "cell_type": "markdown",
      "metadata": {
        "id": "Ybe8CY07zp7D"
      },
      "source": [
        "#### Importing Required Libraries"
      ]
    },
    {
      "cell_type": "code",
      "metadata": {
        "id": "rfdhGGMsw1H7"
      },
      "source": [
        "#import libraries\n",
        "import numpy as np"
      ],
      "execution_count": null,
      "outputs": []
    },
    {
      "cell_type": "markdown",
      "metadata": {
        "id": "Kq-QPfDnx4Fo"
      },
      "source": [
        "## Defining the Environment\n",
        "The environment consists of **states**, **actions**, and **rewards**. States and actions are inputs for the Q-learning agent, while the possible actions are the agent's outputs.\n",
        "#### States\n",
        "The states in the environment are all of the possible locations within the grid. Some of these locations are blocked(**black squares**), while other locations can be travelled by the robot(**white squares**). The **green square** indicates the goal.\n",
        "\n",
        "The black and green squares are **terminal states**!\n",
        "\n",
        "The agent's goal is to learn the shortest path where the robot is allowed to travel.\n",
        "\n",
        "There are 16 possible states (locations). These states are arranged in a grid containing 4 rows and 4 columns. Each location can hence be identified by its row and column index."
      ]
    },
    {
      "cell_type": "code",
      "metadata": {
        "id": "9AdpFVfy6ya9"
      },
      "source": [
        "#define the shape of the environment (i.e., its states)\n",
        "environment_rows = 4\n",
        "environment_columns = 4\n",
        "\n",
        "#Create a 3D numpy array to hold the current Q-values for each state and action pair: Q(s, a) \n",
        "#The array contains 4 rows and 4 columns (to match the shape of the environment), as well as a third \"action\" dimension.\n",
        "#The \"action\" dimension consists of 4 layers that will allow us to keep track of the Q-values for each possible action in each state. \n",
        "#The value of each (state, action) pair is initialized to 0.\n",
        "q_values = np.zeros((environment_rows, environment_columns, 4))\n",
        "\n",
        "# print(q_values)"
      ],
      "execution_count": null,
      "outputs": []
    },
    {
      "cell_type": "markdown",
      "metadata": {
        "id": "07gGSNz07xtP"
      },
      "source": [
        "#### Actions\n",
        "The actions that are available to the AI agent are to move the robot in one of four directions:\n",
        "* Up\n",
        "* Right\n",
        "* Down\n",
        "* Left\n",
        "\n",
        "The AI agent must learn to avoid driving into the blocking area."
      ]
    },
    {
      "cell_type": "code",
      "metadata": {
        "id": "z43QX_t080q3"
      },
      "source": [
        "#define actions\n",
        "#numeric action codes: 0 = up, 1 = right, 2 = down, 3 = left\n",
        "actions = ['up', 'right', 'down', 'left']"
      ],
      "execution_count": null,
      "outputs": []
    },
    {
      "cell_type": "markdown",
      "metadata": {
        "id": "X25vn4VKw2as"
      },
      "source": [
        "#### Rewards\n",
        "The last component of the environment that we need to define are the **rewards**. \n",
        "\n",
        "To help the agent learn, each state (location) in the grid is assigned a reward value.\n",
        "\n",
        "The agent may begin at any white square, but its goal is always the same: ***to maximize its total rewards***!\n",
        "\n",
        "Negative rewards (i.e., **punishments**) are used for all states except the goal.\n",
        "* This encourages the AI to identify the *shortest path* to the goal by *minimizing its punishments*!\n",
        "\n",
        "To maximize its cumulative rewards (by minimizing its cumulative punishments), the agent will need find the shortest paths where the agent is allowed to travel (white squares). The agent will also need to learn to avoid crashing into blocked states. (black squares)!"
      ]
    },
    {
      "cell_type": "code",
      "metadata": {
        "id": "GIJu7XsLXw62",
        "colab": {
          "base_uri": "https://localhost:8080/"
        },
        "outputId": "3598231b-e4aa-446d-9e47-739a634976a6"
      },
      "source": [
        "#Create a 2D numpy array to hold the rewards for each state. \n",
        "#The array contains 4 rows and 4 columns (to match the shape of the environment), and each value is initialized to -1.\n",
        "rewards = np.full((environment_rows, environment_columns), -1.)\n",
        "rewards[0, 2] = 100. #setting the reward for the the goal to 100\n",
        "\n",
        "for i in range(0,2):\n",
        "  row = np.random.randint(environment_rows)\n",
        "  col = np.random.randint(environment_columns)\n",
        "  rewards[row, col] = -100.\n",
        "  \n",
        "#print rewards matrix\n",
        "for row in rewards:\n",
        "  print(row)"
      ],
      "execution_count": null,
      "outputs": [
        {
          "output_type": "stream",
          "name": "stdout",
          "text": [
            "[ -1.  -1. 100.  -1.]\n",
            "[  -1. -100.   -1.   -1.]\n",
            "[-1. -1. -1. -1.]\n",
            "[  -1. -100.   -1.   -1.]\n"
          ]
        }
      ]
    },
    {
      "cell_type": "markdown",
      "metadata": {
        "id": "GFEor01iCCin"
      },
      "source": [
        "## Train the Model\n",
        "Our next task is for our AI agent to learn about its environment by implementing a Q-learning model. The learning process will follow these steps:\n",
        "1. Choose a random, non-terminal state (white square) for the agent to begin this new episode.\n",
        "2. Choose an action (move *up*, *right*, *down*, or *left*) for the current state. Actions will be chosen using an *epsilon greedy algorithm*. This algorithm will usually choose the most promising action for the AI agent, but it will occasionally choose a less promising option in order to encourage the agent to explore the environment.\n",
        "3. Perform the chosen action, and transition to the next state (i.e., move to the next location).\n",
        "4. Receive the reward for moving to the new state, and calculate the temporal difference.\n",
        "5. Update the Q-value for the previous state and action pair.\n",
        "6. If the new (current) state is a terminal state, go to #1. Else, go to #2.\n",
        "\n",
        "This entire process will be repeated across 1000 episodes. This will provide the AI agent sufficient opportunity to learn the shortest paths, while simultaneously avoiding crashing into any of the blocked state.\n",
        "\n",
        "#### Define Helper Functions"
      ]
    },
    {
      "cell_type": "code",
      "metadata": {
        "id": "DnCfO5tVG0LJ"
      },
      "source": [
        "#define a function that determines if the specified location is a terminal state\n",
        "def is_terminal_state(current_row_index, current_column_index):\n",
        "  #if the reward for this location is -1, then it is not a terminal state (i.e., it is a 'white square')\n",
        "  if rewards[current_row_index, current_column_index] == -1.:\n",
        "    return False\n",
        "  else:\n",
        "    return True\n",
        "\n",
        "#define a function that will choose a random, non-terminal starting location\n",
        "def get_starting_location():\n",
        "  #get a random row and column index\n",
        "  current_row_index = np.random.randint(environment_rows)\n",
        "  current_column_index = np.random.randint(environment_columns)\n",
        "  #continue choosing random row and column indexes until a non-terminal state is identified\n",
        "  #(i.e., until the chosen state is a 'white square').\n",
        "  while is_terminal_state(current_row_index, current_column_index):\n",
        "    current_row_index = np.random.randint(environment_rows)\n",
        "    current_column_index = np.random.randint(environment_columns)\n",
        "  return current_row_index, current_column_index\n",
        "\n",
        "#define an epsilon greedy algorithm that will choose which action to take next (i.e., where to move next)\n",
        "def get_next_action(current_row_index, current_column_index, epsilon):\n",
        "  #if a randomly chosen value between 0 and 1 is less than epsilon, \n",
        "  #then choose the most promising value from the Q-table for this state.\n",
        "  if np.random.random() < epsilon:\n",
        "    return np.argmax(q_values[current_row_index, current_column_index])\n",
        "  else: #choose a random action\n",
        "    return np.random.randint(4)\n",
        "\n",
        "#define a function that will get the next location based on the chosen action\n",
        "def get_next_location(current_row_index, current_column_index, action_index):\n",
        "  new_row_index = current_row_index\n",
        "  new_column_index = current_column_index\n",
        "  if actions[action_index] == 'up' and current_row_index > 0:\n",
        "    new_row_index -= 1\n",
        "  elif actions[action_index] == 'right' and current_column_index < environment_columns - 1:\n",
        "    new_column_index += 1\n",
        "  elif actions[action_index] == 'down' and current_row_index < environment_rows - 1:\n",
        "    new_row_index += 1\n",
        "  elif actions[action_index] == 'left' and current_column_index > 0:\n",
        "    new_column_index -= 1\n",
        "  return new_row_index, new_column_index\n",
        "\n",
        "#Define a function that will get the shortest path where robot is allowed to travel.\n",
        "def get_shortest_path(start_row_index, start_column_index):\n",
        "  #return immediately if this is an invalid starting location\n",
        "  if is_terminal_state(start_row_index, start_column_index):\n",
        "    return []\n",
        "  else: #if this is a 'legal' starting location\n",
        "    current_row_index, current_column_index = start_row_index, start_column_index\n",
        "    shortest_path = []\n",
        "    shortest_path.append([current_row_index, current_column_index])\n",
        "    #continue moving along the path until we reach the goal\n",
        "    while not is_terminal_state(current_row_index, current_column_index):\n",
        "      #get the best action to take\n",
        "      action_index = get_next_action(current_row_index, current_column_index, 1.)\n",
        "      #move to the next location on the path, and add the new location to the list\n",
        "      current_row_index, current_column_index = get_next_location(current_row_index, current_column_index, action_index)\n",
        "      shortest_path.append([current_row_index, current_column_index])\n",
        "    return shortest_path"
      ],
      "execution_count": null,
      "outputs": []
    },
    {
      "cell_type": "markdown",
      "metadata": {
        "id": "pjl9niKEqONs"
      },
      "source": [
        "#### Train the AI Agent using Q-Learning"
      ]
    },
    {
      "cell_type": "code",
      "metadata": {
        "id": "3N5BB0m0JHIn",
        "colab": {
          "base_uri": "https://localhost:8080/"
        },
        "outputId": "48887fb2-21f8-41bb-81e3-747074ecfc91"
      },
      "source": [
        "#define training parameters\n",
        "epsilon = 0.9 #the percentage of time when we should take the best action (instead of a random action)\n",
        "discount_factor = 0.9 #discount factor for future rewards\n",
        "learning_rate = 0.9 #the rate at which the AI agent should learn\n",
        "\n",
        "#run through 1000 training episodes\n",
        "for episode in range(1000):\n",
        "  #get the starting location for this episode\n",
        "  row_index, column_index = get_starting_location()\n",
        "\n",
        "  #continue taking actions (i.e., moving) until we reach a terminal state\n",
        "  while not is_terminal_state(row_index, column_index):\n",
        "    #choose which action to take (i.e., where to move next)\n",
        "    action_index = get_next_action(row_index, column_index, epsilon)\n",
        "\n",
        "    #perform the chosen action, and transition to the next state (i.e., move to the next location)\n",
        "    old_row_index, old_column_index = row_index, column_index #store the old row and column indexes\n",
        "    row_index, column_index = get_next_location(row_index, column_index, action_index)\n",
        "    \n",
        "    #receive the reward for moving to the new state, and calculate the temporal difference\n",
        "    reward = rewards[row_index, column_index]\n",
        "    old_q_value = q_values[old_row_index, old_column_index, action_index]\n",
        "    temporal_difference = reward + (discount_factor * np.max(q_values[row_index, column_index])) - old_q_value\n",
        "\n",
        "    #update the Q-value for the previous state and action pair\n",
        "    new_q_value = old_q_value + (learning_rate * temporal_difference)\n",
        "    q_values[old_row_index, old_column_index, action_index] = new_q_value\n",
        "\n",
        "print('Training complete!')\n",
        "\n",
        "print(q_values)"
      ],
      "execution_count": null,
      "outputs": [
        {
          "output_type": "stream",
          "name": "stdout",
          "text": [
            "Training complete!\n",
            "[[[ 79.1         89.          70.19        79.1       ]\n",
            "  [ 89.         100.         -19.89999999  79.1       ]\n",
            "  [  0.           0.           0.           0.        ]\n",
            "  [ 89.          89.          79.1        100.        ]]\n",
            "\n",
            " [[ 79.1        -19.8901      62.17099994  70.18999999]\n",
            "  [ 89.         -99.         -99.9         70.11981   ]\n",
            "  [ 99.99        79.1         55.9539     -19.8801    ]\n",
            "  [ 89.          79.1         70.19        87.03799998]]\n",
            "\n",
            " [[ 70.19        54.95235046  54.95389999  62.171     ]\n",
            "  [-19.899801    62.171      -50.53643585  62.108829  ]\n",
            "  [ 70.1899983   70.19        54.9539      54.95387957]\n",
            "  [ 79.1         70.19        62.171       62.171     ]]\n",
            "\n",
            " [[ 62.171      -49.55149508  54.38657958  54.95384327]\n",
            "  [-99.          54.94816547  43.36623     54.9539    ]\n",
            "  [ 62.171       62.16460371  54.95307347 -50.44299178]\n",
            "  [ 70.19        62.17092326  62.1709936   54.95384266]]]\n"
          ]
        }
      ]
    },
    {
      "cell_type": "markdown",
      "metadata": {
        "id": "-JqQfjYdfyBh"
      },
      "source": [
        "## Get Shortest Paths\n",
        "Now that the agent has been fully trained, we can see what it has learned by displaying the shortest path between any location in the grid."
      ]
    },
    {
      "cell_type": "code",
      "metadata": {
        "id": "F1YO3mj_oS2J",
        "colab": {
          "base_uri": "https://localhost:8080/"
        },
        "outputId": "b7b2c001-bd23-4207-b612-e286177fa894"
      },
      "source": [
        "print(get_shortest_path(0, 2)) #starting at row 0, column 2\n",
        "print(get_shortest_path(1, 2)) #starting at row 1, column 2\n",
        "print(get_shortest_path(3, 2)) #starting at row 3, column 2"
      ],
      "execution_count": null,
      "outputs": [
        {
          "output_type": "stream",
          "name": "stdout",
          "text": [
            "[]\n",
            "[[1, 2], [0, 2]]\n",
            "[[3, 2], [2, 2], [2, 3], [1, 3], [0, 3], [0, 2]]\n"
          ]
        }
      ]
    }
  ]
}